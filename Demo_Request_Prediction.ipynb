{
 "cells": [
  {
   "cell_type": "markdown",
   "id": "792c145a-f5a0-4e22-ba84-49b3ea6bcd75",
   "metadata": {},
   "source": [
    "<img src=\"./img/hpe_logo.png\" alt=\"HPE Logo\" width=\"300\">"
   ]
  },
  {
   "cell_type": "markdown",
   "id": "08b8b1e3-dad8-44ab-90f2-1da652b1c60d",
   "metadata": {
    "tags": []
   },
   "source": [
    "<h1>Request Prediction from KServe InferenceService</h1>\n",
    "\n",
    "<h5>Date: 07/26/23</h5>\n",
    "<h5>Version: 1.0</h5>\n",
    "<h5>Author(s): andrew.mendez@hpe.com</h5>\n",
    "\n"
   ]
  },
  {
   "cell_type": "markdown",
   "id": "d2051970-3740-46c0-88f5-e6759af79433",
   "metadata": {},
   "source": [
    "<img src=\"./img/platform_step0.png\" alt=\"Enterprise Machine Learning platform architecture\" width=\"850\">"
   ]
  },
  {
   "cell_type": "markdown",
   "id": "d6ceb295-8c7f-4723-a0a6-987b22d1f0ea",
   "metadata": {},
   "source": [
    "<h3>Import modules and define functions</h3>\n",
    "The cell below imports all modules and libraries required to run the demo."
   ]
  },
  {
   "cell_type": "code",
   "execution_count": 1,
   "id": "5e57a19b-b672-4bf1-bde1-9c9eb4e0bde2",
   "metadata": {},
   "outputs": [],
   "source": [
    "# !pip install -q ipywidgets"
   ]
  },
  {
   "cell_type": "code",
   "execution_count": 14,
   "id": "2ccff17f-4921-4adc-9de0-7fac60148209",
   "metadata": {},
   "outputs": [],
   "source": [
    "# imports\n",
    "import sys\n",
    "import glob\n",
    "import base64\n",
    "import json\n",
    "import requests\n",
    "import matplotlib.pyplot as plt\n",
    "\n",
    "from skimage import io\n",
    "from PIL import Image, ImageDraw\n",
    "from ipywidgets import interact, interactive\n",
    "import ipywidgets as widgets\n",
    "import io\n",
    "\n",
    "from tqdm import tqdm\n",
    "from multiprocessing import Pool"
   ]
  },
  {
   "cell_type": "markdown",
   "id": "5c85bef1-cab1-40c5-abaf-d408d417a40f",
   "metadata": {},
   "source": [
    "<h3>Step 1: Setting up connection details to KServe and define image directory</h3>"
   ]
  },
  {
   "cell_type": "code",
   "execution_count": 15,
   "id": "71df3c9b-48bc-45b1-9e79-4d5d0430a882",
   "metadata": {},
   "outputs": [
    {
     "name": "stdout",
     "output_type": "stream",
     "text": [
      "detection-deploy.models.mlds-kserve.us.rdlabs.hpecorp.net\n"
     ]
    }
   ],
   "source": [
    "# Set direcotry ./img/pred for images and get files with .jpg extention\n",
    "images = r\"./../e2e_blogposts/ngc_blog/xview_dataset/train_images_rgb_no_neg_filt_32/train_images_640_02_filt_32/*.jpg\"\n",
    "endpoint_name='detection-deploy'\n",
    "model_name='sat-detection'\n",
    "ingress_host = \"{}.models.mlds-kserve.us.rdlabs.hpecorp.net\".format(endpoint_name)\n",
    "ingress_port = \"80\"\n",
    "service_hostname = \"{}.models.mlds-kserve.us.rdlabs.hpecorp.net\".format(endpoint_name)\n",
    "print(ingress_host)"
   ]
  },
  {
   "cell_type": "code",
   "execution_count": 40,
   "id": "d3218f75-c84d-4651-8106-ede9aaa9415f",
   "metadata": {},
   "outputs": [],
   "source": [
    "import torchvision\n",
    "import torch\n",
    "global is3classes\n",
    "is3classes=False\n",
    "\n",
    "def run_nms(pred_d):\n",
    "    # check if pred_d has two classes or three classes\n",
    "    d_cl_ids = {}\n",
    "    global is3classes\n",
    "    n_classes = len(set([list(pred.keys())[0] for pred in pred_d]))# get max id\n",
    "    # print(\"n_classes: \",n_classes)\n",
    "    if n_classes == 3:\n",
    "        cat2id = {'Fixed-wing Aircraft': 1, 'Cargo Plane':2,'Small Aircraft':3}\n",
    "        is3classes=True\n",
    "    elif is3classes==True and n_classes !=3:\n",
    "        cat2id = {'Fixed-wing Aircraft': 1, 'Cargo Plane':2,'Small Aircraft':3}\n",
    "    else:\n",
    "        cat2id = {'Fixed-wing Aircraft': 1, 'Cargo Plane':2}\n",
    "    id2cat = {v:k for k,v in cat2id.items()}\n",
    "    bboxes = []\n",
    "    scores = []\n",
    "    classes = []\n",
    "    for pred in pred_d:\n",
    "        cl_id = list(pred.keys())[0]\n",
    "        classes.append(cat2id[cl_id])\n",
    "        scores.append(pred['score'])\n",
    "        bboxes.append(pred[cl_id])\n",
    "    classes = torch.LongTensor(classes)\n",
    "    bboxes = torch.FloatTensor(bboxes)\n",
    "    scores = torch.FloatTensor(scores)\n",
    "    # print(classes)\n",
    "    idxs = torchvision.ops.batched_nms(bboxes, scores, classes, iou_threshold=0.2)\n",
    "    # print(idxs)\n",
    "    final_classes = classes[idxs].tolist()\n",
    "    final_bboxes = bboxes[idxs].tolist()\n",
    "    final_scores = scores[idxs].tolist()\n",
    "    # print(final_classes)\n",
    "\n",
    "    final_d = []\n",
    "    for cl,bbox,s in zip(final_classes,final_bboxes,final_scores):\n",
    "\n",
    "        #{'Cargo Plane': [226.26126098632812, 554.0189208984375, 307.98333740234375, 623.9032592773438], 'score': 0.30342113971710205}\n",
    "        # print(id2cat[cl])\n",
    "        final_d.append({id2cat[cl]:bbox, 'score':s })\n",
    "        # break\n",
    "    # print(final_d)\n",
    "    return final_d\n",
    "def plot_pred(im,pred_d,thres=0.15):\n",
    "    '''\n",
    "    '''\n",
    "    draw = ImageDraw.Draw(im)\n",
    "    try:\n",
    "        for pred in pred_d['predictions'][0]:\n",
    "            assert len(list(pred.keys())) == 2\n",
    "            cl_name = list(pred.keys())[0]\n",
    "            bboxes = pred[cl_name]\n",
    "            if pred['score'] > thres:\n",
    "                draw.rectangle([bboxes[0],bboxes[1],bboxes[2],bboxes[3]],outline=(255,0,0),fill=None,width=1)\n",
    "                draw.text([bboxes[0],bboxes[1]-10],\"{} :{:.2f}\".format(cl_name,pred['score']),fill=(250,0,0))\n",
    "        plt.figure(figsize=(8,8))\n",
    "    except Exception as e:\n",
    "        print(e)\n",
    "        pass\n",
    "    plt.imshow(im)\n",
    "    plt.show()\n",
    "    return im\n",
    "\n",
    "def predict(args):\n",
    "    '''\n",
    "    Function to base64encode image and send to API\n",
    "    '''\n",
    "    image= Image.open(args[0])\n",
    "    with io.BytesIO() as buffer:\n",
    "        image.save(buffer, format='JPEG')  # You can replace 'JPEG' with other formats like 'PNG' if needed\n",
    "        image_bytes = buffer.getvalue()\n",
    "    image_64_encode = base64.b64encode(image_bytes)\n",
    "    bytes_array = image_64_encode.decode(\"utf-8\")\n",
    "    \n",
    "    # Format the request in json\n",
    "    request = {\n",
    "      \"instances\":[\n",
    "        {\n",
    "          \"data\": bytes_array\n",
    "        }\n",
    "      ]\n",
    "    }\n",
    "    ingress_host = args[1]\n",
    "    ingress_port = args[2]\n",
    "    model_name = args[3]\n",
    "    service_hostname = args[4]\n",
    "    # Create request for Prediction (header, URL, payload)\n",
    "    url = str(\"http://\") + str(ingress_host) + \":\" + str(ingress_port) + \"/v1/models/\" + str(model_name) + \":predict\"\n",
    "    headers = {'Host': service_hostname}\n",
    "    payload = json.dumps(request)\n",
    "    # print(request)\n",
    "    response = requests.post(url, data=payload, headers=headers)\n",
    "    res = response.json()\n",
    "    # print(\"Running NMS...\")\n",
    "    final_res = run_nms(res['predictions'][0])\n",
    "    # print(\"Done!\")\n",
    "    res['predictions'][0] = final_res\n",
    "    # print(len(res['predictions'][0]))\n",
    "    return res\n",
    "\n",
    "def visualize(idx,thres=0.15):\n",
    "    '''\n",
    "    Visualize predicted results from resps\n",
    "    '''\n",
    "    print(idx,thres)\n",
    "    output = resps[idx]\n",
    "    im = Image.open(imgs[idx])\n",
    "    plot_pred(im,output,thres)\n",
    "    \n",
    "def run_apply_async_multiprocessing(func, argument_list, num_processes):\n",
    "    '''\n",
    "    Use multiprocessing.apply_async to send simultaneous requests\n",
    "    '''\n",
    "    pool = Pool(processes=num_processes)\n",
    "\n",
    "    jobs = [pool.apply_async(func=func, args=(*argument,)) if isinstance(argument, tuple) else pool.apply_async(func=func, args=(argument,)) for argument in argument_list]\n",
    "    pool.close()\n",
    "    result_list_tqdm = []\n",
    "    for job in tqdm(jobs):\n",
    "        result_list_tqdm.append(job.get())\n",
    "\n",
    "    return result_list_tqdm"
   ]
  },
  {
   "cell_type": "code",
   "execution_count": 17,
   "id": "c64e4ce5-0f3c-4a77-a42b-4aabf6ed4cf9",
   "metadata": {},
   "outputs": [],
   "source": [
    "imgs = [img for img in glob.glob(images, recursive=True)]"
   ]
  },
  {
   "cell_type": "code",
   "execution_count": 41,
   "id": "1e5832ea-ed9c-4753-8601-e97f0a450b68",
   "metadata": {},
   "outputs": [
    {
     "name": "stdout",
     "output_type": "stream",
     "text": [
      "n_classes:  3\n"
     ]
    },
    {
     "data": {
      "text/plain": [
       "{'predictions': [[{'Fixed-wing Aircraft': [230.6951904296875,\n",
       "     562.4132080078125,\n",
       "     291.6294860839844,\n",
       "     633.3889770507812],\n",
       "    'score': 0.4123193025588989},\n",
       "   {'Cargo Plane': [607.5602416992188,\n",
       "     536.1907958984375,\n",
       "     631.2140502929688,\n",
       "     550.3070678710938],\n",
       "    'score': 0.40741395950317383},\n",
       "   {'Small Aircraft': [319.1665954589844,\n",
       "     312.05633544921875,\n",
       "     347.3628234863281,\n",
       "     427.73974609375],\n",
       "    'score': 0.4052237868309021},\n",
       "   {'Small Aircraft': [285.889404296875,\n",
       "     358.40582275390625,\n",
       "     354.6211853027344,\n",
       "     486.673583984375],\n",
       "    'score': 0.3940927982330322},\n",
       "   {'Small Aircraft': [480.6795349121094,\n",
       "     120.5506820678711,\n",
       "     586.2841186523438,\n",
       "     483.2882995605469],\n",
       "    'score': 0.39343053102493286},\n",
       "   {'Small Aircraft': [196.9119110107422,\n",
       "     335.21435546875,\n",
       "     555.2933959960938,\n",
       "     640.0],\n",
       "    'score': 0.3909900188446045},\n",
       "   {'Small Aircraft': [408.0142517089844,\n",
       "     148.9851531982422,\n",
       "     508.7037048339844,\n",
       "     482.8180236816406],\n",
       "    'score': 0.3888395428657532},\n",
       "   {'Small Aircraft': [333.0652770996094,\n",
       "     129.88194274902344,\n",
       "     435.171630859375,\n",
       "     473.6205139160156],\n",
       "    'score': 0.38202404975891113},\n",
       "   {'Cargo Plane': [626.5785522460938,\n",
       "     520.600830078125,\n",
       "     636.1703491210938,\n",
       "     535.1377563476562],\n",
       "    'score': 0.3814929723739624},\n",
       "   {'Cargo Plane': [216.30850219726562,\n",
       "     559.6217041015625,\n",
       "     277.2340393066406,\n",
       "     601.3246459960938],\n",
       "    'score': 0.37456420063972473},\n",
       "   {'Small Aircraft': [214.25987243652344,\n",
       "     324.0354919433594,\n",
       "     271.1623229980469,\n",
       "     508.8461608886719],\n",
       "    'score': 0.3713093400001526},\n",
       "   {'Cargo Plane': [600.1611328125,\n",
       "     517.4159545898438,\n",
       "     618.2296752929688,\n",
       "     531.7686157226562],\n",
       "    'score': 0.37078994512557983},\n",
       "   {'Small Aircraft': [430.35626220703125,\n",
       "     562.7919921875,\n",
       "     563.1892700195312,\n",
       "     639.9696655273438],\n",
       "    'score': 0.36707091331481934},\n",
       "   {'Small Aircraft': [228.7518768310547,\n",
       "     6.339141845703125,\n",
       "     640.0,\n",
       "     94.93920135498047],\n",
       "    'score': 0.3666573464870453},\n",
       "   {'Cargo Plane': [588.3030395507812,\n",
       "     560.1231079101562,\n",
       "     613.8819580078125,\n",
       "     569.6939086914062],\n",
       "    'score': 0.36534520983695984},\n",
       "   {'Cargo Plane': [613.0637817382812,\n",
       "     413.2934265136719,\n",
       "     636.7064819335938,\n",
       "     429.1537780761719],\n",
       "    'score': 0.36401331424713135},\n",
       "   {'Fixed-wing Aircraft': [475.6769714355469,\n",
       "     193.3609161376953,\n",
       "     512.1591796875,\n",
       "     280.89764404296875],\n",
       "    'score': 0.3605027198791504},\n",
       "   {'Cargo Plane': [613.9536743164062,\n",
       "     525.4441528320312,\n",
       "     629.747314453125,\n",
       "     540.5650634765625],\n",
       "    'score': 0.35315385460853577},\n",
       "   {'Cargo Plane': [629.1688842773438,\n",
       "     531.9974365234375,\n",
       "     640.0,\n",
       "     549.9808959960938],\n",
       "    'score': 0.35163334012031555},\n",
       "   {'Small Aircraft': [495.87213134765625,\n",
       "     180.00299072265625,\n",
       "     534.7879638671875,\n",
       "     220.58775329589844],\n",
       "    'score': 0.3494366705417633},\n",
       "   {'Small Aircraft': [0.0,\n",
       "     434.25341796875,\n",
       "     153.4293975830078,\n",
       "     626.0784301757812],\n",
       "    'score': 0.34780701994895935},\n",
       "   {'Cargo Plane': [599.304443359375,\n",
       "     304.0964050292969,\n",
       "     613.9169311523438,\n",
       "     322.7384033203125],\n",
       "    'score': 0.34683263301849365},\n",
       "   {'Small Aircraft': [37.372901916503906,\n",
       "     2.357379198074341,\n",
       "     254.7237548828125,\n",
       "     19.842937469482422],\n",
       "    'score': 0.3453323543071747},\n",
       "   {'Small Aircraft': [395.4267578125,\n",
       "     234.68394470214844,\n",
       "     456.16729736328125,\n",
       "     268.9618225097656],\n",
       "    'score': 0.3444541096687317},\n",
       "   {'Cargo Plane': [0.0,\n",
       "     70.58977508544922,\n",
       "     74.0182113647461,\n",
       "     269.7528076171875],\n",
       "    'score': 0.34284859895706177},\n",
       "   {'Small Aircraft': [428.7189025878906,\n",
       "     232.6244659423828,\n",
       "     506.54449462890625,\n",
       "     308.596435546875],\n",
       "    'score': 0.3424748182296753},\n",
       "   {'Cargo Plane': [615.96826171875,\n",
       "     517.7703857421875,\n",
       "     629.0187377929688,\n",
       "     529.9956665039062],\n",
       "    'score': 0.33984246850013733},\n",
       "   {'Cargo Plane': [578.0695190429688,\n",
       "     486.696533203125,\n",
       "     597.7565307617188,\n",
       "     501.13140869140625],\n",
       "    'score': 0.3397808074951172},\n",
       "   {'Small Aircraft': [230.1166229248047,\n",
       "     470.68121337890625,\n",
       "     383.5540771484375,\n",
       "     521.2295532226562],\n",
       "    'score': 0.3385981023311615},\n",
       "   {'Fixed-wing Aircraft': [370.3437194824219,\n",
       "     221.77761840820312,\n",
       "     399.4792175292969,\n",
       "     311.6680908203125],\n",
       "    'score': 0.33676230907440186},\n",
       "   {'Small Aircraft': [107.8764419555664,\n",
       "     177.9322509765625,\n",
       "     237.08486938476562,\n",
       "     567.8792114257812],\n",
       "    'score': 0.336747407913208},\n",
       "   {'Cargo Plane': [564.2066040039062,\n",
       "     486.68560791015625,\n",
       "     578.0863037109375,\n",
       "     501.7372741699219],\n",
       "    'score': 0.3322286903858185},\n",
       "   {'Cargo Plane': [607.01708984375,\n",
       "     560.2259521484375,\n",
       "     633.7764892578125,\n",
       "     571.264892578125],\n",
       "    'score': 0.33222052454948425},\n",
       "   {'Cargo Plane': [601.0830688476562,\n",
       "     408.3837585449219,\n",
       "     613.1681518554688,\n",
       "     423.75347900390625],\n",
       "    'score': 0.33211490511894226},\n",
       "   {'Small Aircraft': [307.935302734375,\n",
       "     518.1224365234375,\n",
       "     422.6669921875,\n",
       "     630.3146362304688],\n",
       "    'score': 0.33175569772720337},\n",
       "   {'Cargo Plane': [625.0604858398438,\n",
       "     497.80126953125,\n",
       "     638.80615234375,\n",
       "     516.7579345703125],\n",
       "    'score': 0.33165866136550903},\n",
       "   {'Fixed-wing Aircraft': [192.47323608398438,\n",
       "     236.0144500732422,\n",
       "     328.8793640136719,\n",
       "     636.7107543945312],\n",
       "    'score': 0.3311299681663513},\n",
       "   {'Cargo Plane': [567.81787109375,\n",
       "     499.3041687011719,\n",
       "     585.4358520507812,\n",
       "     511.10357666015625],\n",
       "    'score': 0.33107319474220276},\n",
       "   {'Cargo Plane': [582.0079956054688,\n",
       "     518.393798828125,\n",
       "     605.6312866210938,\n",
       "     539.2266235351562],\n",
       "    'score': 0.3303466737270355},\n",
       "   {'Small Aircraft': [351.8583068847656,\n",
       "     40.9889030456543,\n",
       "     456.761474609375,\n",
       "     106.8685073852539],\n",
       "    'score': 0.3276362121105194},\n",
       "   {'Small Aircraft': [465.3464050292969,\n",
       "     613.615234375,\n",
       "     499.2814636230469,\n",
       "     639.7000122070312],\n",
       "    'score': 0.32656121253967285},\n",
       "   {'Small Aircraft': [396.65423583984375,\n",
       "     489.21270751953125,\n",
       "     475.36358642578125,\n",
       "     630.94873046875],\n",
       "    'score': 0.3255867063999176}]]}"
      ]
     },
     "execution_count": 41,
     "metadata": {},
     "output_type": "execute_result"
    }
   ],
   "source": [
    "predict([imgs[0],ingress_host,ingress_port,model_name,service_hostname])"
   ]
  },
  {
   "cell_type": "markdown",
   "id": "04ed2ec2-58bd-406d-88f4-8cbf0731e05a",
   "metadata": {},
   "source": [
    "<h3>Step 2: Request prediction from KServe InferenceService and display results</h3>"
   ]
  },
  {
   "cell_type": "code",
   "execution_count": 42,
   "id": "c94c227d-1a23-4578-8843-f2403ec1aa9c",
   "metadata": {},
   "outputs": [
    {
     "name": "stderr",
     "output_type": "stream",
     "text": [
      "  0%|          | 0/33 [00:00<?, ?it/s]"
     ]
    },
    {
     "name": "stdout",
     "output_type": "stream",
     "text": [
      "n_classes:  3\n",
      "n_classes:  3\n",
      "n_classes:  3\n",
      "n_classes:  3\n"
     ]
    },
    {
     "name": "stderr",
     "output_type": "stream",
     "text": [
      "  3%|▎         | 1/33 [00:08<04:22,  8.19s/it]"
     ]
    },
    {
     "name": "stdout",
     "output_type": "stream",
     "text": [
      "n_classes:  2\n"
     ]
    },
    {
     "name": "stderr",
     "output_type": "stream",
     "text": [
      " 15%|█▌        | 5/33 [00:10<00:46,  1.67s/it]"
     ]
    },
    {
     "name": "stdout",
     "output_type": "stream",
     "text": [
      "n_classes:  3\n"
     ]
    },
    {
     "name": "stderr",
     "output_type": "stream",
     "text": [
      " 18%|█▊        | 6/33 [00:12<00:47,  1.77s/it]"
     ]
    },
    {
     "name": "stdout",
     "output_type": "stream",
     "text": [
      "n_classes:  3\n"
     ]
    },
    {
     "name": "stderr",
     "output_type": "stream",
     "text": [
      " 21%|██        | 7/33 [00:14<00:48,  1.85s/it]"
     ]
    },
    {
     "name": "stdout",
     "output_type": "stream",
     "text": [
      "n_classes:  3\n"
     ]
    },
    {
     "name": "stderr",
     "output_type": "stream",
     "text": [
      " 24%|██▍       | 8/33 [00:16<00:47,  1.92s/it]"
     ]
    },
    {
     "name": "stdout",
     "output_type": "stream",
     "text": [
      "n_classes:  3\n"
     ]
    },
    {
     "name": "stderr",
     "output_type": "stream",
     "text": [
      " 27%|██▋       | 9/33 [00:18<00:46,  1.94s/it]"
     ]
    },
    {
     "name": "stdout",
     "output_type": "stream",
     "text": [
      "n_classes:  3\n"
     ]
    },
    {
     "name": "stderr",
     "output_type": "stream",
     "text": [
      " 30%|███       | 10/33 [00:20<00:45,  1.98s/it]"
     ]
    },
    {
     "name": "stdout",
     "output_type": "stream",
     "text": [
      "n_classes:  3\n"
     ]
    },
    {
     "name": "stderr",
     "output_type": "stream",
     "text": [
      " 33%|███▎      | 11/33 [00:22<00:44,  2.02s/it]"
     ]
    },
    {
     "name": "stdout",
     "output_type": "stream",
     "text": [
      "n_classes:  2\n"
     ]
    },
    {
     "name": "stderr",
     "output_type": "stream",
     "text": [
      " 36%|███▋      | 12/33 [00:24<00:42,  2.05s/it]"
     ]
    },
    {
     "name": "stdout",
     "output_type": "stream",
     "text": [
      "n_classes:  3\n"
     ]
    },
    {
     "name": "stderr",
     "output_type": "stream",
     "text": [
      " 39%|███▉      | 13/33 [00:27<00:42,  2.12s/it]"
     ]
    },
    {
     "name": "stdout",
     "output_type": "stream",
     "text": [
      "n_classes:  3\n"
     ]
    },
    {
     "name": "stderr",
     "output_type": "stream",
     "text": [
      " 42%|████▏     | 14/33 [00:29<00:40,  2.11s/it]"
     ]
    },
    {
     "name": "stdout",
     "output_type": "stream",
     "text": [
      "n_classes:  2\n"
     ]
    },
    {
     "name": "stderr",
     "output_type": "stream",
     "text": [
      " 45%|████▌     | 15/33 [00:31<00:37,  2.11s/it]"
     ]
    },
    {
     "name": "stdout",
     "output_type": "stream",
     "text": [
      "n_classes:  3\n"
     ]
    },
    {
     "name": "stderr",
     "output_type": "stream",
     "text": [
      " 48%|████▊     | 16/33 [00:33<00:35,  2.08s/it]"
     ]
    },
    {
     "name": "stdout",
     "output_type": "stream",
     "text": [
      "n_classes:  3\n"
     ]
    },
    {
     "name": "stderr",
     "output_type": "stream",
     "text": [
      " 52%|█████▏    | 17/33 [00:35<00:33,  2.08s/it]"
     ]
    },
    {
     "name": "stdout",
     "output_type": "stream",
     "text": [
      "n_classes:  3\n"
     ]
    },
    {
     "name": "stderr",
     "output_type": "stream",
     "text": [
      " 55%|█████▍    | 18/33 [00:37<00:31,  2.09s/it]"
     ]
    },
    {
     "name": "stdout",
     "output_type": "stream",
     "text": [
      "n_classes:  3\n"
     ]
    },
    {
     "name": "stderr",
     "output_type": "stream",
     "text": [
      " 58%|█████▊    | 19/33 [00:39<00:29,  2.12s/it]"
     ]
    },
    {
     "name": "stdout",
     "output_type": "stream",
     "text": [
      "n_classes:  3\n"
     ]
    },
    {
     "name": "stderr",
     "output_type": "stream",
     "text": [
      " 61%|██████    | 20/33 [00:41<00:27,  2.12s/it]"
     ]
    },
    {
     "name": "stdout",
     "output_type": "stream",
     "text": [
      "n_classes:  3\n"
     ]
    },
    {
     "name": "stderr",
     "output_type": "stream",
     "text": [
      " 64%|██████▎   | 21/33 [00:43<00:25,  2.09s/it]"
     ]
    },
    {
     "name": "stdout",
     "output_type": "stream",
     "text": [
      "n_classes:  3\n"
     ]
    },
    {
     "name": "stderr",
     "output_type": "stream",
     "text": [
      " 67%|██████▋   | 22/33 [00:45<00:22,  2.08s/it]"
     ]
    },
    {
     "name": "stdout",
     "output_type": "stream",
     "text": [
      "n_classes:  1\n"
     ]
    },
    {
     "name": "stderr",
     "output_type": "stream",
     "text": [
      " 70%|██████▉   | 23/33 [00:48<00:20,  2.09s/it]"
     ]
    },
    {
     "name": "stdout",
     "output_type": "stream",
     "text": [
      "n_classes:  3\n"
     ]
    },
    {
     "name": "stderr",
     "output_type": "stream",
     "text": [
      " 73%|███████▎  | 24/33 [00:50<00:18,  2.09s/it]"
     ]
    },
    {
     "name": "stdout",
     "output_type": "stream",
     "text": [
      "n_classes:  3\n"
     ]
    },
    {
     "name": "stderr",
     "output_type": "stream",
     "text": [
      " 76%|███████▌  | 25/33 [00:52<00:16,  2.12s/it]"
     ]
    },
    {
     "name": "stdout",
     "output_type": "stream",
     "text": [
      "n_classes:  3\n"
     ]
    },
    {
     "name": "stderr",
     "output_type": "stream",
     "text": [
      " 79%|███████▉  | 26/33 [00:54<00:15,  2.15s/it]"
     ]
    },
    {
     "name": "stdout",
     "output_type": "stream",
     "text": [
      "n_classes:  3\n"
     ]
    },
    {
     "name": "stderr",
     "output_type": "stream",
     "text": [
      " 82%|████████▏ | 27/33 [00:56<00:12,  2.13s/it]"
     ]
    },
    {
     "name": "stdout",
     "output_type": "stream",
     "text": [
      "n_classes:  2\n"
     ]
    },
    {
     "name": "stderr",
     "output_type": "stream",
     "text": [
      " 85%|████████▍ | 28/33 [00:58<00:10,  2.13s/it]"
     ]
    },
    {
     "name": "stdout",
     "output_type": "stream",
     "text": [
      "n_classes:  3\n"
     ]
    },
    {
     "name": "stderr",
     "output_type": "stream",
     "text": [
      " 88%|████████▊ | 29/33 [01:01<00:08,  2.17s/it]"
     ]
    },
    {
     "name": "stdout",
     "output_type": "stream",
     "text": [
      "n_classes:  3\n"
     ]
    },
    {
     "name": "stderr",
     "output_type": "stream",
     "text": [
      " 91%|█████████ | 30/33 [01:03<00:06,  2.16s/it]"
     ]
    },
    {
     "name": "stdout",
     "output_type": "stream",
     "text": [
      "n_classes:  2\n"
     ]
    },
    {
     "name": "stderr",
     "output_type": "stream",
     "text": [
      " 94%|█████████▍| 31/33 [01:05<00:04,  2.14s/it]"
     ]
    },
    {
     "name": "stdout",
     "output_type": "stream",
     "text": [
      "n_classes:  3\n"
     ]
    },
    {
     "name": "stderr",
     "output_type": "stream",
     "text": [
      " 97%|█████████▋| 32/33 [01:07<00:02,  2.12s/it]"
     ]
    },
    {
     "name": "stdout",
     "output_type": "stream",
     "text": [
      "n_classes:  3\n"
     ]
    },
    {
     "name": "stderr",
     "output_type": "stream",
     "text": [
      "100%|██████████| 33/33 [01:09<00:00,  2.10s/it]\n"
     ]
    }
   ],
   "source": [
    "is3classes=False\n",
    "resps = run_apply_async_multiprocessing(predict,[[imgs[i],ingress_host,ingress_port,model_name,service_hostname] for i in range(len(imgs))],num_processes=4)"
   ]
  },
  {
   "cell_type": "code",
   "execution_count": 43,
   "id": "9dd3cce2-0b08-48fa-875f-cdd60ae97d74",
   "metadata": {},
   "outputs": [
    {
     "data": {
      "application/vnd.jupyter.widget-view+json": {
       "model_id": "45457a1dcf6d4e288727b13c92beb6dc",
       "version_major": 2,
       "version_minor": 0
      },
      "text/plain": [
       "interactive(children=(IntSlider(value=0, description='idx', max=33), FloatSlider(value=0.0, description='thres…"
      ]
     },
     "metadata": {},
     "output_type": "display_data"
    }
   ],
   "source": [
    "interact(visualize, idx=widgets.IntSlider(min=0, max=len(resps), step=1, value=0),thres =widgets.FloatSlider(min=0, max=1.0, step=0.1, value=0.00));"
   ]
  },
  {
   "cell_type": "code",
   "execution_count": null,
   "id": "3e94f4a3-4253-48b4-bd26-697502ee2b9d",
   "metadata": {},
   "outputs": [],
   "source": []
  }
 ],
 "metadata": {
  "kernelspec": {
   "display_name": "Python 3 (ipykernel)",
   "language": "python",
   "name": "python3"
  },
  "language_info": {
   "codemirror_mode": {
    "name": "ipython",
    "version": 3
   },
   "file_extension": ".py",
   "mimetype": "text/x-python",
   "name": "python",
   "nbconvert_exporter": "python",
   "pygments_lexer": "ipython3",
   "version": "3.8.16"
  }
 },
 "nbformat": 4,
 "nbformat_minor": 5
}
