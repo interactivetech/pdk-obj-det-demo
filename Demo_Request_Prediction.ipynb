{
 "cells": [
  {
   "cell_type": "markdown",
   "id": "792c145a-f5a0-4e22-ba84-49b3ea6bcd75",
   "metadata": {},
   "source": [
    "<img src=\"./img/hpe_logo.png\" alt=\"HPE Logo\" width=\"300\">"
   ]
  },
  {
   "cell_type": "markdown",
   "id": "08b8b1e3-dad8-44ab-90f2-1da652b1c60d",
   "metadata": {
    "tags": []
   },
   "source": [
    "<h1>Request Prediction from KServe InferenceService</h1>\n",
    "\n",
    "<h5>Date: 07/26/23</h5>\n",
    "<h5>Version: 1.0</h5>\n",
    "<h5>Author(s): andrew.mendez@hpe.com</h5>\n",
    "\n"
   ]
  },
  {
   "cell_type": "markdown",
   "id": "d2051970-3740-46c0-88f5-e6759af79433",
   "metadata": {},
   "source": [
    "<img src=\"./img/platform_step0.png\" alt=\"Enterprise Machine Learning platform architecture\" width=\"850\">"
   ]
  },
  {
   "cell_type": "markdown",
   "id": "d6ceb295-8c7f-4723-a0a6-987b22d1f0ea",
   "metadata": {},
   "source": [
    "<h3>Import modules and define functions</h3>\n",
    "The cell below imports all modules and libraries required to run the demo."
   ]
  },
  {
   "cell_type": "code",
   "execution_count": 1,
   "id": "5e57a19b-b672-4bf1-bde1-9c9eb4e0bde2",
   "metadata": {},
   "outputs": [],
   "source": [
    "# !pip install -q ipywidgets"
   ]
  },
  {
   "cell_type": "code",
   "execution_count": 2,
   "id": "2ccff17f-4921-4adc-9de0-7fac60148209",
   "metadata": {},
   "outputs": [],
   "source": [
    "# imports\n",
    "import sys\n",
    "import glob\n",
    "import base64\n",
    "import json\n",
    "import requests\n",
    "import matplotlib.pyplot as plt\n",
    "\n",
    "from skimage import io\n",
    "from PIL import Image, ImageDraw\n",
    "from ipywidgets import interact, interactive\n",
    "import ipywidgets as widgets\n",
    "import io\n",
    "\n",
    "from tqdm import tqdm\n",
    "from multiprocessing import Pool"
   ]
  },
  {
   "cell_type": "markdown",
   "id": "5c85bef1-cab1-40c5-abaf-d408d417a40f",
   "metadata": {},
   "source": [
    "<h3>Step 1: Setting up connection details to KServe and define image directory</h3>"
   ]
  },
  {
   "cell_type": "code",
   "execution_count": 3,
   "id": "71df3c9b-48bc-45b1-9e79-4d5d0430a882",
   "metadata": {},
   "outputs": [
    {
     "name": "stdout",
     "output_type": "stream",
     "text": [
      "detection-deploy.models.mlds-kserve.us.rdlabs.hpecorp.net\n"
     ]
    }
   ],
   "source": [
    "# Set direcotry ./img/pred for images and get files with .jpg extention\n",
    "images = r\"./../e2e_blogposts/ngc_blog/xview_dataset/train_images_rgb_no_neg_filt_32/train_images_640_02_filt_32/*.jpg\"\n",
    "endpoint_name='detection-deploy'\n",
    "model_name='sat-detection'\n",
    "ingress_host = \"{}.models.mlds-kserve.us.rdlabs.hpecorp.net\".format(endpoint_name)\n",
    "ingress_port = \"80\"\n",
    "service_hostname = \"{}.models.mlds-kserve.us.rdlabs.hpecorp.net\".format(endpoint_name)\n",
    "print(ingress_host)"
   ]
  },
  {
   "cell_type": "code",
   "execution_count": 4,
   "id": "d3218f75-c84d-4651-8106-ede9aaa9415f",
   "metadata": {},
   "outputs": [],
   "source": [
    "import torchvision\n",
    "import torch\n",
    "def run_nms(pred_d):\n",
    "    cat2id = {'Fixed-wing Aircraft': 1, 'Cargo Plane':2}\n",
    "    id2cat = {v:k for k,v in cat2id.items()}\n",
    "    bboxes = []\n",
    "    scores = []\n",
    "    classes = []\n",
    "    for pred in pred_d:\n",
    "        cl_id = list(pred.keys())[0]\n",
    "        classes.append(cat2id[cl_id])\n",
    "        scores.append(pred['score'])\n",
    "        bboxes.append(pred[cl_id])\n",
    "    classes = torch.LongTensor(classes)\n",
    "    bboxes = torch.FloatTensor(bboxes)\n",
    "    scores = torch.FloatTensor(scores)\n",
    "    # print(classes)\n",
    "    idxs = torchvision.ops.batched_nms(bboxes, scores, classes, iou_threshold=0.2)\n",
    "    # print(idxs)\n",
    "    final_classes = classes[idxs].tolist()\n",
    "    final_bboxes = bboxes[idxs].tolist()\n",
    "    final_scores = scores[idxs].tolist()\n",
    "    # print(final_classes)\n",
    "\n",
    "    final_d = []\n",
    "    for cl,bbox,s in zip(final_classes,final_bboxes,final_scores):\n",
    "\n",
    "        #{'Cargo Plane': [226.26126098632812, 554.0189208984375, 307.98333740234375, 623.9032592773438], 'score': 0.30342113971710205}\n",
    "        # print(id2cat[cl])\n",
    "        final_d.append({id2cat[cl]:bbox, 'score':s })\n",
    "        # break\n",
    "    # print(final_d)\n",
    "    return final_d\n",
    "def plot_pred(im,pred_d,thres=0.15):\n",
    "    '''\n",
    "    '''\n",
    "    draw = ImageDraw.Draw(im)\n",
    "    try:\n",
    "        for pred in pred_d['predictions'][0]:\n",
    "            assert len(list(pred.keys())) == 2\n",
    "            cl_name = list(pred.keys())[0]\n",
    "            bboxes = pred[cl_name]\n",
    "            if pred['score'] > thres:\n",
    "                draw.rectangle([bboxes[0],bboxes[1],bboxes[2],bboxes[3]],outline=(255,0,0),fill=None,width=1)\n",
    "                draw.text([bboxes[0],bboxes[1]-10],\"{} :{:.2f}\".format(cl_name,pred['score']),fill=(250,0,0))\n",
    "        plt.figure(figsize=(8,8))\n",
    "    except Exception as e:\n",
    "        print(e)\n",
    "        pass\n",
    "    plt.imshow(im)\n",
    "    plt.show()\n",
    "    return im\n",
    "\n",
    "def predict(args):\n",
    "    '''\n",
    "    Function to base64encode image and send to API\n",
    "    '''\n",
    "    image= Image.open(args[0])\n",
    "    with io.BytesIO() as buffer:\n",
    "        image.save(buffer, format='JPEG')  # You can replace 'JPEG' with other formats like 'PNG' if needed\n",
    "        image_bytes = buffer.getvalue()\n",
    "    image_64_encode = base64.b64encode(image_bytes)\n",
    "    bytes_array = image_64_encode.decode(\"utf-8\")\n",
    "    \n",
    "    # Format the request in json\n",
    "    request = {\n",
    "      \"instances\":[\n",
    "        {\n",
    "          \"data\": bytes_array\n",
    "        }\n",
    "      ]\n",
    "    }\n",
    "    ingress_host = args[1]\n",
    "    ingress_port = args[2]\n",
    "    model_name = args[3]\n",
    "    service_hostname = args[4]\n",
    "    # Create request for Prediction (header, URL, payload)\n",
    "    url = str(\"http://\") + str(ingress_host) + \":\" + str(ingress_port) + \"/v1/models/\" + str(model_name) + \":predict\"\n",
    "    headers = {'Host': service_hostname}\n",
    "    payload = json.dumps(request)\n",
    "    # print(request)\n",
    "    response = requests.post(url, data=payload, headers=headers)\n",
    "    res = response.json()\n",
    "    # print(\"Running NMS...\")\n",
    "    final_res = run_nms(res['predictions'][0])\n",
    "    # print(\"Done!\")\n",
    "    res['predictions'][0] = final_res\n",
    "    # print(len(res['predictions'][0]))\n",
    "    return res\n",
    "\n",
    "def visualize(idx,thres=0.15):\n",
    "    '''\n",
    "    Visualize predicted results from resps\n",
    "    '''\n",
    "    print(idx,thres)\n",
    "    output = resps[idx]\n",
    "    im = Image.open(imgs[idx])\n",
    "    plot_pred(im,output,thres)\n",
    "    \n",
    "def run_apply_async_multiprocessing(func, argument_list, num_processes):\n",
    "    '''\n",
    "    Use multiprocessing.apply_async to send simultaneous requests\n",
    "    '''\n",
    "    pool = Pool(processes=num_processes)\n",
    "\n",
    "    jobs = [pool.apply_async(func=func, args=(*argument,)) if isinstance(argument, tuple) else pool.apply_async(func=func, args=(argument,)) for argument in argument_list]\n",
    "    pool.close()\n",
    "    result_list_tqdm = []\n",
    "    for job in tqdm(jobs):\n",
    "        result_list_tqdm.append(job.get())\n",
    "\n",
    "    return result_list_tqdm"
   ]
  },
  {
   "cell_type": "code",
   "execution_count": 5,
   "id": "c64e4ce5-0f3c-4a77-a42b-4aabf6ed4cf9",
   "metadata": {},
   "outputs": [],
   "source": [
    "imgs = [img for img in glob.glob(images, recursive=True)]"
   ]
  },
  {
   "cell_type": "code",
   "execution_count": 6,
   "id": "1e5832ea-ed9c-4753-8601-e97f0a450b68",
   "metadata": {},
   "outputs": [],
   "source": [
    "# predict([imgs[0],ingress_host,ingress_port,model_name,service_hostname])"
   ]
  },
  {
   "cell_type": "markdown",
   "id": "04ed2ec2-58bd-406d-88f4-8cbf0731e05a",
   "metadata": {},
   "source": [
    "<h3>Step 2: Request prediction from KServe InferenceService and display results</h3>"
   ]
  },
  {
   "cell_type": "code",
   "execution_count": 7,
   "id": "c94c227d-1a23-4578-8843-f2403ec1aa9c",
   "metadata": {},
   "outputs": [
    {
     "name": "stderr",
     "output_type": "stream",
     "text": [
      "100%|██████████| 33/33 [01:07<00:00,  2.04s/it]\n"
     ]
    }
   ],
   "source": [
    "resps = run_apply_async_multiprocessing(predict,[[imgs[i],ingress_host,ingress_port,model_name,service_hostname] for i in range(len(imgs))],num_processes=4)"
   ]
  },
  {
   "cell_type": "code",
   "execution_count": 8,
   "id": "9dd3cce2-0b08-48fa-875f-cdd60ae97d74",
   "metadata": {},
   "outputs": [
    {
     "data": {
      "application/vnd.jupyter.widget-view+json": {
       "model_id": "4c06038535c8492b971976467e20fd56",
       "version_major": 2,
       "version_minor": 0
      },
      "text/plain": [
       "interactive(children=(IntSlider(value=0, description='idx', max=33), FloatSlider(value=0.0, description='thres…"
      ]
     },
     "metadata": {},
     "output_type": "display_data"
    }
   ],
   "source": [
    "interact(visualize, idx=widgets.IntSlider(min=0, max=len(resps), step=1, value=0),thres =widgets.FloatSlider(min=0, max=1.0, step=0.1, value=0.00));"
   ]
  },
  {
   "cell_type": "code",
   "execution_count": null,
   "id": "3e94f4a3-4253-48b4-bd26-697502ee2b9d",
   "metadata": {},
   "outputs": [],
   "source": []
  }
 ],
 "metadata": {
  "kernelspec": {
   "display_name": "Python 3 (ipykernel)",
   "language": "python",
   "name": "python3"
  },
  "language_info": {
   "codemirror_mode": {
    "name": "ipython",
    "version": 3
   },
   "file_extension": ".py",
   "mimetype": "text/x-python",
   "name": "python",
   "nbconvert_exporter": "python",
   "pygments_lexer": "ipython3",
   "version": "3.8.16"
  }
 },
 "nbformat": 4,
 "nbformat_minor": 5
}
